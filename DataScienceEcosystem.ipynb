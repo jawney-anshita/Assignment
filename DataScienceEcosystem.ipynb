{
 "cells": [
  {
   "attachments": {},
   "cell_type": "markdown",
   "id": "9caadfb0",
   "metadata": {},
   "source": [
    "# Data Science Tools and Ecosystem"
   ]
  },
  {
   "attachments": {},
   "cell_type": "markdown",
   "id": "c0055406",
   "metadata": {},
   "source": [
    "# Data Science Tools and Ecosystem"
   ]
  },
  {
   "attachments": {},
   "cell_type": "markdown",
   "id": "638fec14",
   "metadata": {},
   "source": [
    "In this Notebook, Datascience Tools and Ecosystem are summarized. This notebook is an assignment having the Questions and answers for Data Science Tools and Libraries"
   ]
  },
  {
   "attachments": {},
   "cell_type": "markdown",
   "id": "102f1cd9",
   "metadata": {},
   "source": [
    "In this Notebook, Datascience Tools and Ecosystem are summarized. This notebook is an assignment having the Questions and answers for Data Science Tools and Libraries"
   ]
  },
  {
   "cell_type": "code",
   "execution_count": null,
   "id": "a9c9c3d4",
   "metadata": {},
   "outputs": [],
   "source": []
  },
  {
   "cell_type": "markdown",
   "id": "fe804829",
   "metadata": {},
   "source": [
    "### Some Popular Datascience Languages are:\n",
    "\n",
    "1. Python\n",
    "2. R\n",
    "3. Julia\n",
    "4. Scala\n",
    "5. SQL\n",
    "6. Ruby\n",
    "7. Javascript\n",
    "8. Java\n",
    "9. PHP\n",
    "10. C++\n",
    "11. Go"
   ]
  },
  {
   "cell_type": "markdown",
   "id": "cc6717d8",
   "metadata": {},
   "source": [
    "### Some Popular Datascience Languages are:\n",
    "\n",
    "1. Python\n",
    "2. R\n",
    "3. Julia\n",
    "4. Scala\n",
    "5. SQL\n",
    "6. Ruby\n",
    "7. Javascript\n",
    "8. Java\n",
    "9. PHP\n",
    "10. C++\n",
    "11. Go"
   ]
  },
  {
   "cell_type": "markdown",
   "id": "a454e335",
   "metadata": {},
   "source": [
    "### Some of the common Libraries in Data Science:\n",
    "\n",
    "1. Pandas\n",
    "2. Numpy\n",
    "3. MatplotLib\n",
    "4. Scikit-learn\n",
    "5. Tensorflow\n",
    "6. ggplot2"
   ]
  },
  {
   "cell_type": "markdown",
   "id": "11d592dc",
   "metadata": {},
   "source": [
    "### Some of the common Libraries in Data Science:\n",
    "\n",
    "1. Pandas\n",
    "2. Numpy\n",
    "3. MatplotLib\n",
    "4. Scikit-learn\n",
    "5. Tensorflow\n",
    "6. ggplot2"
   ]
  },
  {
   "cell_type": "markdown",
   "id": "ba8e96f3",
   "metadata": {},
   "source": [
    "### Data Science Tools\n",
    "\n",
    "|  Data Science Tools  | Description\n",
    "| -------------------- | --------------------------------------------------------|\n",
    "| Jupyter Notebook     | It ability to code, text and viualization               |\n",
    "| Jupyter Lab          | It is similar to Jupyter lab upgraded form              |\n",
    "| R studio             | It is mainly design for code, comuting and visualization using R   |\n",
    "| Apache Zeplin        | For Data exploration and visualization  coding not needed for plots |"
   ]
  },
  {
   "cell_type": "markdown",
   "id": "13dac2c3",
   "metadata": {},
   "source": [
    "### Data Science Tools\n",
    "\n",
    "|  Data Science Tools  | Description\n",
    "| -------------------- | --------------------------------------------------------|\n",
    "| Jupyter Notebook     | It ability to code, text and viualization               |\n",
    "| Jupyter Lab          | It is similar to Jupyter lab upgraded form              |\n",
    "| R studio             | It is mainly design for code, comuting and visualization using R   |\n",
    "| Apache Zeplin        | For Data exploration and visualization  coding not needed for plots |"
   ]
  },
  {
   "cell_type": "markdown",
   "id": "24fa569e",
   "metadata": {},
   "source": [
    "### Below are few examples of evaluating arithmetic expressions "
   ]
  },
  {
   "cell_type": "markdown",
   "id": "a2abdf5f",
   "metadata": {},
   "source": [
    "### Below are few examples of evaluating arithmetic expressions "
   ]
  },
  {
   "cell_type": "code",
   "execution_count": 1,
   "id": "3c403edc",
   "metadata": {},
   "outputs": [
    {
     "data": {
      "text/plain": [
       "815"
      ]
     },
     "execution_count": 1,
     "metadata": {},
     "output_type": "execute_result"
    }
   ],
   "source": [
    "# Simple arithmetic expression to add and multiply numbers\n",
    "\n",
    "(65*12)+35"
   ]
  },
  {
   "cell_type": "markdown",
   "id": "ced07863",
   "metadata": {},
   "source": [
    "### Convert minutes to hours"
   ]
  },
  {
   "cell_type": "code",
   "execution_count": 2,
   "id": "5e8d5c44",
   "metadata": {},
   "outputs": [
    {
     "data": {
      "text/plain": [
       "120.0"
      ]
     },
     "execution_count": 2,
     "metadata": {},
     "output_type": "execute_result"
    }
   ],
   "source": [
    "7200/60"
   ]
  },
  {
   "cell_type": "markdown",
   "id": "bfcfc933",
   "metadata": {},
   "source": [
    "### Objectives of course Tools for Data Science\n",
    "\n",
    "- In this course got a brief idea about what is data mangement, data intergration, data modelling and data visualization\n",
    "- Github for Code asset management It has version management too.\n",
    "- Languages for Datascience main are Python, SQL, R, Scala, Others are Julia, JS, C++, PHP\n",
    "- Libraries for Data Science : Pandas, Numpy, ggplot etc.\n",
    "- Also learnt about What is API\n",
    "- Open Source Development tools for Data Science\n",
    "- Anaconda for offline notebook\n",
    "- Notebook can be accessed using Google and Visual Editor as well\n"
   ]
  },
  {
   "cell_type": "markdown",
   "id": "3518d1ab",
   "metadata": {},
   "source": [
    "### Objectives of course Tools for Data Science\n",
    "\n",
    "- In this course got a brief idea about what is data mangement, data intergration, data modelling and data visualization\n",
    "- Github for Code asset management It has version management too.\n",
    "- Languages for Datascience main are Python, SQL, R, Scala, Others are Julia, JS, C++, PHP\n",
    "- Libraries for Data Science : Pandas, Numpy, ggplot etc.\n",
    "- Also learnt about What is API\n",
    "- Open Source Development tools for Data Science\n",
    "- Anaconda for offline notebook\n",
    "- Notebook can be accessed using Google and Visual Editor as well\n"
   ]
  },
  {
   "cell_type": "markdown",
   "id": "e0d9d68f",
   "metadata": {},
   "source": [
    "### Author Name\n",
    "Anshita"
   ]
  },
  {
   "cell_type": "markdown",
   "id": "eff7cf8d",
   "metadata": {},
   "source": [
    "### Author Name\n",
    "Anshita"
   ]
  }
 ],
 "metadata": {
  "kernelspec": {
   "display_name": "Python 3 (ipykernel)",
   "language": "python",
   "name": "python3"
  },
  "language_info": {
   "codemirror_mode": {
    "name": "ipython",
    "version": 3
   },
   "file_extension": ".py",
   "mimetype": "text/x-python",
   "name": "python",
   "nbconvert_exporter": "python",
   "pygments_lexer": "ipython3",
   "version": "3.10.9"
  }
 },
 "nbformat": 4,
 "nbformat_minor": 5
}
